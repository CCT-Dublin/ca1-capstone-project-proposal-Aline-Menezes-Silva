{
 "cells": [
  {
   "cell_type": "markdown",
   "id": "3759d86c",
   "metadata": {},
   "source": [
    "# Capstone Project: Optimising Sales Strategies in a Warehouse and Retail Operations Using Data-Driven Insights."
   ]
  },
  {
   "cell_type": "markdown",
   "id": "ce2860d8",
   "metadata": {},
   "source": [
    "- Introduction\n",
    "\n",
    "This capstone project aims to analyse the \"Warehouse and Retail Sales\" dataset available on Data.gov to uncover trends, patterns, and opportunities for enhancing sales performance in warehouse and retail operations. The significance of this study lies in addressing a real-world business challenge: optimising sales strategies to improve profitability and operational efficiency. As e-commerce continues to grow and consumer behaviour evolves, retail and warehouse operations must adapt to remain competitive. This project seeks to provide actionable insights and data-driven solutions to support businesses in maximising their sales potential.\n",
    "\n",
    "The project is both relevant and engaging as it integrates data analysis, business strategy, and real-world application. By examining key factors influencing sales—such as inventory management, pricing strategies, and seasonal trends—this study will offer valuable insights for businesses. The findings can contribute to informed decision-making, ultimately leading to increased revenue and improved customer satisfaction.\n"
   ]
  },
  {
   "cell_type": "markdown",
   "id": "2ca18d0a",
   "metadata": {},
   "source": [
    " "
   ]
  },
  {
   "cell_type": "markdown",
   "id": "c4cb2da8",
   "metadata": {},
   "source": [
    " "
   ]
  },
  {
   "cell_type": "markdown",
   "id": "e43777f8",
   "metadata": {},
   "source": [
    " "
   ]
  },
  {
   "cell_type": "markdown",
   "id": "69af9997",
   "metadata": {},
   "source": [
    "# ------------------------------------ DATASET ANALYSIS ---------------------------------------------"
   ]
  },
  {
   "cell_type": "markdown",
   "id": "572d7f29",
   "metadata": {},
   "source": [
    " "
   ]
  },
  {
   "cell_type": "code",
   "execution_count": 1,
   "id": "274c98a8",
   "metadata": {},
   "outputs": [],
   "source": [
    "# import libraries:\n",
    "\n",
    "import warnings\n",
    "warnings.filterwarnings('ignore')\n",
    "\n",
    "import pandas as pd\n",
    "import numpy as np\n",
    "\n",
    "import matplotlib.pyplot as plt\n",
    "%matplotlib inline\n",
    "import seaborn as sns\n"
   ]
  },
  {
   "cell_type": "code",
   "execution_count": 2,
   "id": "08a67760",
   "metadata": {},
   "outputs": [],
   "source": [
    "# Load the dataset:\n",
    "\n",
    "df = pd.read_csv('warehouse_and_retail_sales.csv')"
   ]
  },
  {
   "cell_type": "code",
   "execution_count": 3,
   "id": "48bbbf96",
   "metadata": {},
   "outputs": [
    {
     "data": {
      "text/html": [
       "<div>\n",
       "<style scoped>\n",
       "    .dataframe tbody tr th:only-of-type {\n",
       "        vertical-align: middle;\n",
       "    }\n",
       "\n",
       "    .dataframe tbody tr th {\n",
       "        vertical-align: top;\n",
       "    }\n",
       "\n",
       "    .dataframe thead th {\n",
       "        text-align: right;\n",
       "    }\n",
       "</style>\n",
       "<table border=\"1\" class=\"dataframe\">\n",
       "  <thead>\n",
       "    <tr style=\"text-align: right;\">\n",
       "      <th></th>\n",
       "      <th>YEAR</th>\n",
       "      <th>MONTH</th>\n",
       "      <th>SUPPLIER</th>\n",
       "      <th>ITEM CODE</th>\n",
       "      <th>ITEM DESCRIPTION</th>\n",
       "      <th>ITEM TYPE</th>\n",
       "      <th>RETAIL SALES</th>\n",
       "      <th>RETAIL TRANSFERS</th>\n",
       "      <th>WAREHOUSE SALES</th>\n",
       "    </tr>\n",
       "  </thead>\n",
       "  <tbody>\n",
       "    <tr>\n",
       "      <th>0</th>\n",
       "      <td>2017</td>\n",
       "      <td>10</td>\n",
       "      <td>ANHEUSER BUSCH INC</td>\n",
       "      <td>175</td>\n",
       "      <td>EMPTY 1/2 KEG (30.00)</td>\n",
       "      <td>DUNNAGE</td>\n",
       "      <td>0.0</td>\n",
       "      <td>0.0</td>\n",
       "      <td>-4996.0</td>\n",
       "    </tr>\n",
       "    <tr>\n",
       "      <th>1</th>\n",
       "      <td>2017</td>\n",
       "      <td>6</td>\n",
       "      <td>ANHEUSER BUSCH INC</td>\n",
       "      <td>175</td>\n",
       "      <td>EMPTY 1/2 KEG (30.00)</td>\n",
       "      <td>DUNNAGE</td>\n",
       "      <td>0.0</td>\n",
       "      <td>0.0</td>\n",
       "      <td>-4804.0</td>\n",
       "    </tr>\n",
       "    <tr>\n",
       "      <th>2</th>\n",
       "      <td>2017</td>\n",
       "      <td>8</td>\n",
       "      <td>ANHEUSER BUSCH INC</td>\n",
       "      <td>175</td>\n",
       "      <td>EMPTY 1/2 KEG (30.00)</td>\n",
       "      <td>DUNNAGE</td>\n",
       "      <td>0.0</td>\n",
       "      <td>0.0</td>\n",
       "      <td>-4536.0</td>\n",
       "    </tr>\n",
       "    <tr>\n",
       "      <th>3</th>\n",
       "      <td>2019</td>\n",
       "      <td>10</td>\n",
       "      <td>PREMIUM DISTRIBUTORS INC</td>\n",
       "      <td>175</td>\n",
       "      <td>EMPTY 1/2 KEG (30.00)</td>\n",
       "      <td>DUNNAGE</td>\n",
       "      <td>0.0</td>\n",
       "      <td>0.0</td>\n",
       "      <td>-4365.0</td>\n",
       "    </tr>\n",
       "    <tr>\n",
       "      <th>4</th>\n",
       "      <td>2017</td>\n",
       "      <td>7</td>\n",
       "      <td>ANHEUSER BUSCH INC</td>\n",
       "      <td>175</td>\n",
       "      <td>EMPTY 1/2 KEG (30.00)</td>\n",
       "      <td>DUNNAGE</td>\n",
       "      <td>0.0</td>\n",
       "      <td>0.0</td>\n",
       "      <td>-4364.0</td>\n",
       "    </tr>\n",
       "    <tr>\n",
       "      <th>5</th>\n",
       "      <td>2019</td>\n",
       "      <td>7</td>\n",
       "      <td>PREMIUM DISTRIBUTORS INC</td>\n",
       "      <td>175</td>\n",
       "      <td>EMPTY 1/2 KEG (30.00)</td>\n",
       "      <td>DUNNAGE</td>\n",
       "      <td>0.0</td>\n",
       "      <td>0.0</td>\n",
       "      <td>-4349.0</td>\n",
       "    </tr>\n",
       "    <tr>\n",
       "      <th>6</th>\n",
       "      <td>2017</td>\n",
       "      <td>11</td>\n",
       "      <td>ANHEUSER BUSCH INC</td>\n",
       "      <td>175</td>\n",
       "      <td>EMPTY 1/2 KEG (30.00)</td>\n",
       "      <td>DUNNAGE</td>\n",
       "      <td>0.0</td>\n",
       "      <td>0.0</td>\n",
       "      <td>-4312.0</td>\n",
       "    </tr>\n",
       "    <tr>\n",
       "      <th>7</th>\n",
       "      <td>2018</td>\n",
       "      <td>1</td>\n",
       "      <td>ANHEUSER BUSCH INC</td>\n",
       "      <td>175</td>\n",
       "      <td>EMPTY 1/2 KEG (30.00)</td>\n",
       "      <td>DUNNAGE</td>\n",
       "      <td>0.0</td>\n",
       "      <td>0.0</td>\n",
       "      <td>-4302.0</td>\n",
       "    </tr>\n",
       "    <tr>\n",
       "      <th>8</th>\n",
       "      <td>2019</td>\n",
       "      <td>4</td>\n",
       "      <td>PREMIUM DISTRIBUTORS INC</td>\n",
       "      <td>175</td>\n",
       "      <td>EMPTY 1/2 KEG (30.00)</td>\n",
       "      <td>DUNNAGE</td>\n",
       "      <td>0.0</td>\n",
       "      <td>0.0</td>\n",
       "      <td>-4299.0</td>\n",
       "    </tr>\n",
       "    <tr>\n",
       "      <th>9</th>\n",
       "      <td>2017</td>\n",
       "      <td>9</td>\n",
       "      <td>ANHEUSER BUSCH INC</td>\n",
       "      <td>175</td>\n",
       "      <td>EMPTY 1/2 KEG (30.00)</td>\n",
       "      <td>DUNNAGE</td>\n",
       "      <td>0.0</td>\n",
       "      <td>0.0</td>\n",
       "      <td>-4210.0</td>\n",
       "    </tr>\n",
       "  </tbody>\n",
       "</table>\n",
       "</div>"
      ],
      "text/plain": [
       "   YEAR  MONTH                  SUPPLIER ITEM CODE       ITEM DESCRIPTION  \\\n",
       "0  2017     10        ANHEUSER BUSCH INC       175  EMPTY 1/2 KEG (30.00)   \n",
       "1  2017      6        ANHEUSER BUSCH INC       175  EMPTY 1/2 KEG (30.00)   \n",
       "2  2017      8        ANHEUSER BUSCH INC       175  EMPTY 1/2 KEG (30.00)   \n",
       "3  2019     10  PREMIUM DISTRIBUTORS INC       175  EMPTY 1/2 KEG (30.00)   \n",
       "4  2017      7        ANHEUSER BUSCH INC       175  EMPTY 1/2 KEG (30.00)   \n",
       "5  2019      7  PREMIUM DISTRIBUTORS INC       175  EMPTY 1/2 KEG (30.00)   \n",
       "6  2017     11        ANHEUSER BUSCH INC       175  EMPTY 1/2 KEG (30.00)   \n",
       "7  2018      1        ANHEUSER BUSCH INC       175  EMPTY 1/2 KEG (30.00)   \n",
       "8  2019      4  PREMIUM DISTRIBUTORS INC       175  EMPTY 1/2 KEG (30.00)   \n",
       "9  2017      9        ANHEUSER BUSCH INC       175  EMPTY 1/2 KEG (30.00)   \n",
       "\n",
       "  ITEM TYPE  RETAIL SALES  RETAIL TRANSFERS  WAREHOUSE SALES  \n",
       "0   DUNNAGE           0.0               0.0          -4996.0  \n",
       "1   DUNNAGE           0.0               0.0          -4804.0  \n",
       "2   DUNNAGE           0.0               0.0          -4536.0  \n",
       "3   DUNNAGE           0.0               0.0          -4365.0  \n",
       "4   DUNNAGE           0.0               0.0          -4364.0  \n",
       "5   DUNNAGE           0.0               0.0          -4349.0  \n",
       "6   DUNNAGE           0.0               0.0          -4312.0  \n",
       "7   DUNNAGE           0.0               0.0          -4302.0  \n",
       "8   DUNNAGE           0.0               0.0          -4299.0  \n",
       "9   DUNNAGE           0.0               0.0          -4210.0  "
      ]
     },
     "execution_count": 3,
     "metadata": {},
     "output_type": "execute_result"
    }
   ],
   "source": [
    "# Display the first 10 rows:\n",
    "\n",
    "df.head(10)"
   ]
  },
  {
   "cell_type": "code",
   "execution_count": 4,
   "id": "4a93d1b8",
   "metadata": {},
   "outputs": [
    {
     "data": {
      "text/html": [
       "<div>\n",
       "<style scoped>\n",
       "    .dataframe tbody tr th:only-of-type {\n",
       "        vertical-align: middle;\n",
       "    }\n",
       "\n",
       "    .dataframe tbody tr th {\n",
       "        vertical-align: top;\n",
       "    }\n",
       "\n",
       "    .dataframe thead th {\n",
       "        text-align: right;\n",
       "    }\n",
       "</style>\n",
       "<table border=\"1\" class=\"dataframe\">\n",
       "  <thead>\n",
       "    <tr style=\"text-align: right;\">\n",
       "      <th></th>\n",
       "      <th>YEAR</th>\n",
       "      <th>MONTH</th>\n",
       "      <th>SUPPLIER</th>\n",
       "      <th>ITEM CODE</th>\n",
       "      <th>ITEM DESCRIPTION</th>\n",
       "      <th>ITEM TYPE</th>\n",
       "      <th>RETAIL SALES</th>\n",
       "      <th>RETAIL TRANSFERS</th>\n",
       "      <th>WAREHOUSE SALES</th>\n",
       "    </tr>\n",
       "  </thead>\n",
       "  <tbody>\n",
       "    <tr>\n",
       "      <th>307634</th>\n",
       "      <td>2017</td>\n",
       "      <td>7</td>\n",
       "      <td>CROWN IMPORTS</td>\n",
       "      <td>96750</td>\n",
       "      <td>CORONA EXTRA 2/12 NR - 12OZ</td>\n",
       "      <td>BEER</td>\n",
       "      <td>75.0</td>\n",
       "      <td>76.0</td>\n",
       "      <td>14411.50</td>\n",
       "    </tr>\n",
       "    <tr>\n",
       "      <th>307635</th>\n",
       "      <td>2019</td>\n",
       "      <td>9</td>\n",
       "      <td>CROWN IMPORTS</td>\n",
       "      <td>23445</td>\n",
       "      <td>CORONA EXTRA LOOSE NR - 12OZ</td>\n",
       "      <td>BEER</td>\n",
       "      <td>972.0</td>\n",
       "      <td>965.0</td>\n",
       "      <td>14511.00</td>\n",
       "    </tr>\n",
       "    <tr>\n",
       "      <th>307636</th>\n",
       "      <td>2019</td>\n",
       "      <td>6</td>\n",
       "      <td>CROWN IMPORTS</td>\n",
       "      <td>23445</td>\n",
       "      <td>CORONA EXTRA LOOSE NR - 12OZ</td>\n",
       "      <td>BEER</td>\n",
       "      <td>1494.0</td>\n",
       "      <td>1462.0</td>\n",
       "      <td>14739.92</td>\n",
       "    </tr>\n",
       "    <tr>\n",
       "      <th>307637</th>\n",
       "      <td>2019</td>\n",
       "      <td>8</td>\n",
       "      <td>CROWN IMPORTS</td>\n",
       "      <td>96750</td>\n",
       "      <td>CORONA EXTRA 2/12 NR - 12OZ</td>\n",
       "      <td>BEER</td>\n",
       "      <td>764.3</td>\n",
       "      <td>771.0</td>\n",
       "      <td>15289.00</td>\n",
       "    </tr>\n",
       "    <tr>\n",
       "      <th>307638</th>\n",
       "      <td>2017</td>\n",
       "      <td>8</td>\n",
       "      <td>CROWN IMPORTS</td>\n",
       "      <td>23445</td>\n",
       "      <td>CORONA EXTRA LOOSE NR - 12OZ</td>\n",
       "      <td>BEER</td>\n",
       "      <td>990.0</td>\n",
       "      <td>1077.0</td>\n",
       "      <td>15346.71</td>\n",
       "    </tr>\n",
       "    <tr>\n",
       "      <th>307639</th>\n",
       "      <td>2017</td>\n",
       "      <td>6</td>\n",
       "      <td>CROWN IMPORTS</td>\n",
       "      <td>96750</td>\n",
       "      <td>CORONA EXTRA 2/12 NR - 12OZ</td>\n",
       "      <td>BEER</td>\n",
       "      <td>53.0</td>\n",
       "      <td>61.0</td>\n",
       "      <td>15955.46</td>\n",
       "    </tr>\n",
       "    <tr>\n",
       "      <th>307640</th>\n",
       "      <td>2017</td>\n",
       "      <td>11</td>\n",
       "      <td>CROWN IMPORTS</td>\n",
       "      <td>23445</td>\n",
       "      <td>CORONA EXTRA LOOSE NR - 12OZ</td>\n",
       "      <td>BEER</td>\n",
       "      <td>992.0</td>\n",
       "      <td>981.0</td>\n",
       "      <td>16079.12</td>\n",
       "    </tr>\n",
       "    <tr>\n",
       "      <th>307641</th>\n",
       "      <td>2019</td>\n",
       "      <td>5</td>\n",
       "      <td>CROWN IMPORTS</td>\n",
       "      <td>23445</td>\n",
       "      <td>CORONA EXTRA LOOSE NR - 12OZ</td>\n",
       "      <td>BEER</td>\n",
       "      <td>1373.0</td>\n",
       "      <td>1207.0</td>\n",
       "      <td>17703.62</td>\n",
       "    </tr>\n",
       "    <tr>\n",
       "      <th>307642</th>\n",
       "      <td>2019</td>\n",
       "      <td>7</td>\n",
       "      <td>CROWN IMPORTS</td>\n",
       "      <td>23445</td>\n",
       "      <td>CORONA EXTRA LOOSE NR - 12OZ</td>\n",
       "      <td>BEER</td>\n",
       "      <td>1198.0</td>\n",
       "      <td>1416.0</td>\n",
       "      <td>17810.87</td>\n",
       "    </tr>\n",
       "    <tr>\n",
       "      <th>307643</th>\n",
       "      <td>2020</td>\n",
       "      <td>7</td>\n",
       "      <td>CROWN IMPORTS</td>\n",
       "      <td>23445</td>\n",
       "      <td>CORONA EXTRA LOOSE NR - 12OZ</td>\n",
       "      <td>BEER</td>\n",
       "      <td>1174.0</td>\n",
       "      <td>1041.0</td>\n",
       "      <td>18317.00</td>\n",
       "    </tr>\n",
       "  </tbody>\n",
       "</table>\n",
       "</div>"
      ],
      "text/plain": [
       "        YEAR  MONTH       SUPPLIER ITEM CODE              ITEM DESCRIPTION  \\\n",
       "307634  2017      7  CROWN IMPORTS     96750   CORONA EXTRA 2/12 NR - 12OZ   \n",
       "307635  2019      9  CROWN IMPORTS     23445  CORONA EXTRA LOOSE NR - 12OZ   \n",
       "307636  2019      6  CROWN IMPORTS     23445  CORONA EXTRA LOOSE NR - 12OZ   \n",
       "307637  2019      8  CROWN IMPORTS     96750   CORONA EXTRA 2/12 NR - 12OZ   \n",
       "307638  2017      8  CROWN IMPORTS     23445  CORONA EXTRA LOOSE NR - 12OZ   \n",
       "307639  2017      6  CROWN IMPORTS     96750   CORONA EXTRA 2/12 NR - 12OZ   \n",
       "307640  2017     11  CROWN IMPORTS     23445  CORONA EXTRA LOOSE NR - 12OZ   \n",
       "307641  2019      5  CROWN IMPORTS     23445  CORONA EXTRA LOOSE NR - 12OZ   \n",
       "307642  2019      7  CROWN IMPORTS     23445  CORONA EXTRA LOOSE NR - 12OZ   \n",
       "307643  2020      7  CROWN IMPORTS     23445  CORONA EXTRA LOOSE NR - 12OZ   \n",
       "\n",
       "       ITEM TYPE  RETAIL SALES  RETAIL TRANSFERS  WAREHOUSE SALES  \n",
       "307634      BEER          75.0              76.0         14411.50  \n",
       "307635      BEER         972.0             965.0         14511.00  \n",
       "307636      BEER        1494.0            1462.0         14739.92  \n",
       "307637      BEER         764.3             771.0         15289.00  \n",
       "307638      BEER         990.0            1077.0         15346.71  \n",
       "307639      BEER          53.0              61.0         15955.46  \n",
       "307640      BEER         992.0             981.0         16079.12  \n",
       "307641      BEER        1373.0            1207.0         17703.62  \n",
       "307642      BEER        1198.0            1416.0         17810.87  \n",
       "307643      BEER        1174.0            1041.0         18317.00  "
      ]
     },
     "execution_count": 4,
     "metadata": {},
     "output_type": "execute_result"
    }
   ],
   "source": [
    "# Display the last 10 rows:\n",
    "\n",
    "df.tail(10)"
   ]
  },
  {
   "cell_type": "markdown",
   "id": "31ae1742",
   "metadata": {},
   "source": [
    "The dataset contains warehouse and retail sales records from multiple years, detailing suppliers, item descriptions and sales figures. The initial entries show \"Empty 1/2 Keg\" under the item type \"Dunnage,\" with negative warehouse sales values, likely representing keg returns or inventory adjustments.The dataset appears to capture both product sales and logistical activities, such as returns and stock transfers. Given this mix of transactional data, thorough data cleaning and careful interpretation are essential to differentiate between various entry types when analysing sales trends and performance."
   ]
  },
  {
   "cell_type": "code",
   "execution_count": 5,
   "id": "6e528f63",
   "metadata": {},
   "outputs": [
    {
     "name": "stdout",
     "output_type": "stream",
     "text": [
      "<class 'pandas.core.frame.DataFrame'>\n",
      "RangeIndex: 307644 entries, 0 to 307643\n",
      "Data columns (total 9 columns):\n",
      " #   Column            Non-Null Count   Dtype  \n",
      "---  ------            --------------   -----  \n",
      " 0   YEAR              307644 non-null  int64  \n",
      " 1   MONTH             307644 non-null  int64  \n",
      " 2   SUPPLIER          307478 non-null  object \n",
      " 3   ITEM CODE         307644 non-null  object \n",
      " 4   ITEM DESCRIPTION  307644 non-null  object \n",
      " 5   ITEM TYPE         307643 non-null  object \n",
      " 6   RETAIL SALES      307641 non-null  float64\n",
      " 7   RETAIL TRANSFERS  307644 non-null  float64\n",
      " 8   WAREHOUSE SALES   307644 non-null  float64\n",
      "dtypes: float64(3), int64(2), object(4)\n",
      "memory usage: 21.1+ MB\n"
     ]
    }
   ],
   "source": [
    "# Check basic information about the dataset:\n",
    "\n",
    "df.info()"
   ]
  },
  {
   "cell_type": "markdown",
   "id": "cf9dc8b6",
   "metadata": {},
   "source": [
    "The dataset consists of 307644 entries and 9 columns related to warehouse and retail sales transactions, including key details such as year, month, supplier, item code, item description, item type, retail sales, retail transfers and warehouse sales. Most columns are completed, although some have a few missing values, particularly in the supplier and item type categories."
   ]
  },
  {
   "cell_type": "markdown",
   "id": "695fd975",
   "metadata": {},
   "source": [
    " "
   ]
  },
  {
   "cell_type": "markdown",
   "id": "35be9fd7",
   "metadata": {},
   "source": [
    "# Data Cleaning and Pre-processing\n",
    "\n",
    "-Before continuing the analysis, it is essential to clean and properly format the dataset:"
   ]
  },
  {
   "cell_type": "code",
   "execution_count": 6,
   "id": "d192c104",
   "metadata": {},
   "outputs": [
    {
     "data": {
      "text/plain": [
       "YEAR                  0\n",
       "MONTH                 0\n",
       "SUPPLIER            166\n",
       "ITEM CODE             0\n",
       "ITEM DESCRIPTION      0\n",
       "ITEM TYPE             1\n",
       "RETAIL SALES          3\n",
       "RETAIL TRANSFERS      0\n",
       "WAREHOUSE SALES       0\n",
       "dtype: int64"
      ]
     },
     "execution_count": 6,
     "metadata": {},
     "output_type": "execute_result"
    }
   ],
   "source": [
    "# Check for missing values:\n",
    "\n",
    "df.isnull().sum()"
   ]
  },
  {
   "cell_type": "markdown",
   "id": "fdc4c290",
   "metadata": {},
   "source": [
    "The df.isnull().sum() output shows that there are 166 missing values in the \"SUPPLIER\" column, 1 in \"ITEM TYPE,\" and 3 in \"RETAIL SALES,\" while all other columns are complete."
   ]
  },
  {
   "cell_type": "markdown",
   "id": "329a06ab",
   "metadata": {},
   "source": [
    "  "
   ]
  },
  {
   "cell_type": "code",
   "execution_count": 7,
   "id": "67f064b0",
   "metadata": {},
   "outputs": [
    {
     "data": {
      "text/plain": [
       "0"
      ]
     },
     "execution_count": 7,
     "metadata": {},
     "output_type": "execute_result"
    }
   ],
   "source": [
    "# Check for duplicates:\n",
    "\n",
    "df.duplicated().sum()"
   ]
  },
  {
   "cell_type": "markdown",
   "id": "4546e01e",
   "metadata": {},
   "source": [
    "the output of df.duplicated().sum() shows that there are no duplicate entries in the dataset, indicating data uniqueness across all records."
   ]
  },
  {
   "cell_type": "markdown",
   "id": "d6ab36e8",
   "metadata": {},
   "source": [
    " "
   ]
  },
  {
   "cell_type": "markdown",
   "id": "96b1ef3a",
   "metadata": {},
   "source": [
    "                                   # Handling missing values:"
   ]
  },
  {
   "cell_type": "markdown",
   "id": "367a1322",
   "metadata": {},
   "source": [
    "- Missing values in the 'SUPPLIER' column will be filled with 'Unknown' to maintain the total number of entries while ensuring valuable transaction data is not lost."
   ]
  },
  {
   "cell_type": "code",
   "execution_count": 8,
   "id": "5b626d0d",
   "metadata": {},
   "outputs": [],
   "source": [
    "df['SUPPLIER'].fillna(\"UNKNOWN\", inplace=True)"
   ]
  },
  {
   "cell_type": "markdown",
   "id": "f870e25f",
   "metadata": {},
   "source": [
    "- The missing values in 'RETAIL SALES' will be filled with the median to prevent any skewing of the data."
   ]
  },
  {
   "cell_type": "code",
   "execution_count": 9,
   "id": "035118d2",
   "metadata": {},
   "outputs": [],
   "source": [
    "retail_sales_median = df['RETAIL SALES'].median()\n",
    "df['RETAIL SALES'].fillna(retail_sales_median, inplace=True)"
   ]
  },
  {
   "cell_type": "markdown",
   "id": "600ac76a",
   "metadata": {},
   "source": [
    "- The missing values in the \"ITEM TYPE\" column will be removed, as the number of missing entries is minimal compared to the overall size of the dataset and deleting them will not significantly impact the analysis:"
   ]
  },
  {
   "cell_type": "code",
   "execution_count": 10,
   "id": "e0673050",
   "metadata": {},
   "outputs": [],
   "source": [
    "df.dropna(subset=['ITEM TYPE'], inplace=True)"
   ]
  },
  {
   "cell_type": "markdown",
   "id": "f60f3cbc",
   "metadata": {},
   "source": [
    " "
   ]
  },
  {
   "cell_type": "markdown",
   "id": "a7f426ec",
   "metadata": {},
   "source": [
    "                                   # Validate Data Types:\n",
    "                                   \n",
    "To ensure that the data types of each column are appropriate for analysis.\n",
    "\n",
    "- date should be in datetime format (add new column).\n",
    "\n",
    "- YEAR and MONTH should be integers.\n",
    "\n",
    "- RETAIL SALES, RETAIL TRANSFERS, and WAREHOUSE SALES should be numeric (float or int).\n",
    "\n",
    "- SUPPLIER, ITEM DESCRIPTION and ITEM TYPE should be categorical (object/string).\n",
    "\n",
    "- ITEM CODE should be in string format, as an examination of the dataset's head revealed that some entries were displayed as numbers, all entries need to be consistent and presented in a single format rather than in two different formats."
   ]
  },
  {
   "cell_type": "code",
   "execution_count": 11,
   "id": "5a639773",
   "metadata": {},
   "outputs": [],
   "source": [
    "# Convert date columns to datetime format and add a new date column:\n",
    "\n",
    "df['DATE'] = pd.to_datetime(df[['YEAR', 'MONTH']].assign(DAY=1))"
   ]
  },
  {
   "cell_type": "code",
   "execution_count": 12,
   "id": "2da02807",
   "metadata": {},
   "outputs": [],
   "source": [
    "# Rename coloumns's Head for easier processing.\n",
    "\n",
    "df.columns = df.columns.str.strip().str.lower().str.replace(' ', '_')"
   ]
  },
  {
   "cell_type": "code",
   "execution_count": 13,
   "id": "506a105f",
   "metadata": {},
   "outputs": [],
   "source": [
    "# Standardise categorical columns for easier processing:\n",
    "\n",
    "df['supplier'] = df['supplier'].str.strip().str.lower()\n",
    "df['item_description'] = df['item_description'].str.strip().str.lower()\n",
    "df['item_type'] = df['item_type'].str.strip().str.lower()"
   ]
  },
  {
   "cell_type": "code",
   "execution_count": 14,
   "id": "7251392d",
   "metadata": {},
   "outputs": [
    {
     "name": "stdout",
     "output_type": "stream",
     "text": [
      "<class 'pandas.core.frame.DataFrame'>\n",
      "Index: 307643 entries, 0 to 307643\n",
      "Data columns (total 10 columns):\n",
      " #   Column            Non-Null Count   Dtype         \n",
      "---  ------            --------------   -----         \n",
      " 0   year              307643 non-null  int64         \n",
      " 1   month             307643 non-null  int64         \n",
      " 2   supplier          307643 non-null  object        \n",
      " 3   item_code         307643 non-null  object        \n",
      " 4   item_description  307643 non-null  object        \n",
      " 5   item_type         307643 non-null  object        \n",
      " 6   retail_sales      307643 non-null  float64       \n",
      " 7   retail_transfers  307643 non-null  float64       \n",
      " 8   warehouse_sales   307643 non-null  float64       \n",
      " 9   date              307643 non-null  datetime64[ns]\n",
      "dtypes: datetime64[ns](1), float64(3), int64(2), object(4)\n",
      "memory usage: 25.8+ MB\n"
     ]
    }
   ],
   "source": [
    "# Check dataset is now cleaned, pre-processed and ready for the next step of the analysis:\n",
    "\n",
    "df.info()"
   ]
  },
  {
   "cell_type": "code",
   "execution_count": null,
   "id": "2b6b07e0",
   "metadata": {},
   "outputs": [],
   "source": []
  },
  {
   "cell_type": "code",
   "execution_count": null,
   "id": "f0b7eb22",
   "metadata": {},
   "outputs": [],
   "source": []
  },
  {
   "cell_type": "code",
   "execution_count": null,
   "id": "437ca038",
   "metadata": {},
   "outputs": [],
   "source": []
  },
  {
   "cell_type": "code",
   "execution_count": null,
   "id": "f1105b34",
   "metadata": {},
   "outputs": [],
   "source": []
  },
  {
   "cell_type": "code",
   "execution_count": null,
   "id": "8ca3d67b",
   "metadata": {},
   "outputs": [],
   "source": []
  },
  {
   "cell_type": "code",
   "execution_count": null,
   "id": "c9e0f4fa",
   "metadata": {},
   "outputs": [],
   "source": []
  },
  {
   "cell_type": "code",
   "execution_count": null,
   "id": "920039b0",
   "metadata": {},
   "outputs": [],
   "source": []
  },
  {
   "cell_type": "code",
   "execution_count": 15,
   "id": "e05ee50c",
   "metadata": {},
   "outputs": [
    {
     "name": "stdout",
     "output_type": "stream",
     "text": [
      "['175' 'BC' '205' ... '23886' '96750' '23445']\n"
     ]
    }
   ],
   "source": [
    "unique_values = df['item_code'].unique()\n",
    "print(unique_values)"
   ]
  }
 ],
 "metadata": {
  "kernelspec": {
   "display_name": "Python 3 (ipykernel)",
   "language": "python",
   "name": "python3"
  },
  "language_info": {
   "codemirror_mode": {
    "name": "ipython",
    "version": 3
   },
   "file_extension": ".py",
   "mimetype": "text/x-python",
   "name": "python",
   "nbconvert_exporter": "python",
   "pygments_lexer": "ipython3",
   "version": "3.8.20"
  }
 },
 "nbformat": 4,
 "nbformat_minor": 5
}
